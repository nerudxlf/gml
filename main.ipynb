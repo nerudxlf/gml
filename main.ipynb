{
  "nbformat": 4,
  "nbformat_minor": 0,
  "metadata": {
    "colab": {
      "name": "Untitled4.ipynb",
      "provenance": [],
      "authorship_tag": "ABX9TyMVH7KVQotyy0tsKGd3IdQd",
      "include_colab_link": true
    },
    "kernelspec": {
      "name": "python3",
      "display_name": "Python 3"
    }
  },
  "cells": [
    {
      "cell_type": "markdown",
      "metadata": {
        "id": "view-in-github",
        "colab_type": "text"
      },
      "source": [
        "<a href=\"https://colab.research.google.com/github/nerudxlf/gml/blob/main/main.ipynb\" target=\"_parent\"><img src=\"https://colab.research.google.com/assets/colab-badge.svg\" alt=\"Open In Colab\"/></a>"
      ]
    },
    {
      "cell_type": "code",
      "metadata": {
        "id": "yG1Yj7FRTJYc"
      },
      "source": [
        "import io\r\n",
        "\r\n",
        "import pandas as pd\r\n",
        "from google.colab import files\r\n",
        "\r\n",
        "label = \"    label \"\r\n",
        "faculty = \"    faculty \"\r\n",
        "f_department = \"    f_department \"\r\n",
        "n = \"\\n\"\r\n",
        "\r\n",
        "def add_new_field(arr_split_string: list, new_field: str, new_value: int) -> list:\r\n",
        "  \"\"\"\r\n",
        "  Функция для добавления нового поля в gml файл\r\n",
        "  :param arr_split_string: весь gml файл в виде массива разбитый по разделителю\r\n",
        "  :param new_field: название нового поля\r\n",
        "  :param new_value: значение нового поля\r\n",
        "  :return: возвращает новый массив с новым полем\r\n",
        "  \"\"\"\r\n",
        "  return_list = []\r\n",
        "  result = []\r\n",
        "  arr = []\r\n",
        "  for item_split in arr_split_string:\r\n",
        "    arr.append(item_split.split(' '))\r\n",
        "  for i in arr:\r\n",
        "    for j in i:\r\n",
        "      if j == \"id\":\r\n",
        "        i.append(\"   \" + new_field)\r\n",
        "        i.append('\"' + str(new_value) + '\"' + \"\\n\")\r\n",
        "    result.append(i)\r\n",
        "  for i in result:\r\n",
        "    return_list.append(\" \".join(i))\r\n",
        "  return return_list"
      ],
      "execution_count": 1,
      "outputs": []
    },
    {
      "cell_type": "code",
      "metadata": {
        "id": "Tmp7veBMYC_V"
      },
      "source": [
        "uploaded_xlsx = files.upload()  # загружаем файлы\r\n",
        "uploaded_gml = files.upload()"
      ],
      "execution_count": 3,
      "outputs": []
    },
    {
      "cell_type": "code",
      "metadata": {
        "id": "hCGqsLI8nXOl"
      },
      "source": [
        "arr_for_out = []\r\n",
        "df = pd.read_excel(\"data.xlsx\")  # выбираем данные\r\n",
        "name_list = list(df['name'])  \r\n",
        "f_list = list(df['f'])\r\n",
        "dep_list = list(df['dep'])"
      ],
      "execution_count": 4,
      "outputs": []
    },
    {
      "cell_type": "code",
      "metadata": {
        "id": "braOm2VzYSqk"
      },
      "source": [
        "with open(\"wos_full_name.gml\", \"r\", encoding=\"utf-8\") as file:  # считаваем данные из файла\r\n",
        "      len_str = file.read()\r\n",
        "split_len_str = len_str.split(\"  ]\\n  node\")  # разибваем строку на массив\r\n",
        "split_len_str = add_new_field(split_len_str, \"faculty\", 1)  # добавляем факультеты и кафедры\r\n",
        "split_len_str = add_new_field(split_len_str, \"f_department\", 2)\r\n",
        "\r\n",
        "for i in split_len_str:  # массив для изменения факультета и кафедры\r\n",
        "  flag = True\r\n",
        "  for j in range(len(name_list)):\r\n",
        "    arr_name_equals = name_list[j].split(\";\")\r\n",
        "    for x in arr_name_equals:\r\n",
        "      if i.find(label + '\"' + x + '\"' + n) != -1:\r\n",
        "        name_list[j] = \"0\"\r\n",
        "        new = i.replace(faculty + '\"1\"' + n, faculty + '\"' + str(f_list[j]) + '\"' + n)  # заменяем значения и добавляем в массив\r\n",
        "        new = new.replace(f_department + '\"2\"' + n, f_department + '\"' + str(dep_list[j]) + '\"' + n)\r\n",
        "        arr_for_out.append(new)\r\n",
        "        flag = False\r\n",
        "  if flag:\r\n",
        "    arr_for_out.append(i)  # если нечего измениять то добавляем в массив без изменений\r\n",
        "out_str = \"  ]\\n  node\".join(arr_for_out)  # формируем строку снова \r\n",
        "with io.open(\"out.txt\", \"w\", encoding=\"utf-8\") as f:\r\n",
        "  f.write(out_str)\r\n",
        "files.download(\"out.txt\") "
      ],
      "execution_count": null,
      "outputs": []
    }
  ]
}